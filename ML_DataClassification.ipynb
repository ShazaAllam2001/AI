{
  "nbformat": 4,
  "nbformat_minor": 2,
  "metadata": {
    "colab": {
      "name": "ML_DataClassification.ipynb",
      "provenance": [],
      "collapsed_sections": []
    },
    "kernelspec": {
      "name": "python3",
      "display_name": "Python 3"
    },
    "language_info": {
      "name": "python"
    }
  },
  "cells": [
    {
      "cell_type": "markdown",
      "source": [
        "#Initialization"
      ],
      "metadata": {
        "id": "j7bFLbofaJrq"
      }
    },
    {
      "cell_type": "markdown",
      "source": [
        "Import the required packages and modules"
      ],
      "metadata": {
        "id": "gUIdCRgJqbBU"
      }
    },
    {
      "cell_type": "code",
      "execution_count": null,
      "source": [
        "import sklearn as sk\r\n",
        "import pandas as pd\r\n",
        "import numpy as np\r\n",
        "import imblearn\r\n",
        "from sklearn import metrics"
      ],
      "outputs": [],
      "metadata": {
        "id": "8kKHbEDfPBcE"
      }
    },
    {
      "cell_type": "markdown",
      "source": [
        "Read the MAGIC dataset and assign x & y"
      ],
      "metadata": {
        "id": "10UxmvSyUIV3"
      }
    },
    {
      "cell_type": "code",
      "execution_count": null,
      "source": [
        "file_url = \"https://archive.ics.uci.edu/ml/machine-learning-databases/magic/magic04.data\"\r\n",
        "headers = ['fLength','fWidth','fSize','fConc','fConc1','fAsym','fM3Long','fM3Trans','fAlpha','fDist','class']\r\n",
        "magic = pd.read_csv(file_url, sep=\",\", names=headers)\r\n",
        "display(magic)\r\n",
        "x = magic.iloc[:,:-1]\r\n",
        "y = magic.iloc[:,-1]"
      ],
      "outputs": [
        {
          "output_type": "display_data",
          "data": {
            "text/html": [
              "<div>\n",
              "<style scoped>\n",
              "    .dataframe tbody tr th:only-of-type {\n",
              "        vertical-align: middle;\n",
              "    }\n",
              "\n",
              "    .dataframe tbody tr th {\n",
              "        vertical-align: top;\n",
              "    }\n",
              "\n",
              "    .dataframe thead th {\n",
              "        text-align: right;\n",
              "    }\n",
              "</style>\n",
              "<table border=\"1\" class=\"dataframe\">\n",
              "  <thead>\n",
              "    <tr style=\"text-align: right;\">\n",
              "      <th></th>\n",
              "      <th>fLength</th>\n",
              "      <th>fWidth</th>\n",
              "      <th>fSize</th>\n",
              "      <th>fConc</th>\n",
              "      <th>fConc1</th>\n",
              "      <th>fAsym</th>\n",
              "      <th>fM3Long</th>\n",
              "      <th>fM3Trans</th>\n",
              "      <th>fAlpha</th>\n",
              "      <th>fDist</th>\n",
              "      <th>class</th>\n",
              "    </tr>\n",
              "  </thead>\n",
              "  <tbody>\n",
              "    <tr>\n",
              "      <th>0</th>\n",
              "      <td>28.7967</td>\n",
              "      <td>16.0021</td>\n",
              "      <td>2.6449</td>\n",
              "      <td>0.3918</td>\n",
              "      <td>0.1982</td>\n",
              "      <td>27.7004</td>\n",
              "      <td>22.0110</td>\n",
              "      <td>-8.2027</td>\n",
              "      <td>40.0920</td>\n",
              "      <td>81.8828</td>\n",
              "      <td>g</td>\n",
              "    </tr>\n",
              "    <tr>\n",
              "      <th>1</th>\n",
              "      <td>31.6036</td>\n",
              "      <td>11.7235</td>\n",
              "      <td>2.5185</td>\n",
              "      <td>0.5303</td>\n",
              "      <td>0.3773</td>\n",
              "      <td>26.2722</td>\n",
              "      <td>23.8238</td>\n",
              "      <td>-9.9574</td>\n",
              "      <td>6.3609</td>\n",
              "      <td>205.2610</td>\n",
              "      <td>g</td>\n",
              "    </tr>\n",
              "    <tr>\n",
              "      <th>2</th>\n",
              "      <td>162.0520</td>\n",
              "      <td>136.0310</td>\n",
              "      <td>4.0612</td>\n",
              "      <td>0.0374</td>\n",
              "      <td>0.0187</td>\n",
              "      <td>116.7410</td>\n",
              "      <td>-64.8580</td>\n",
              "      <td>-45.2160</td>\n",
              "      <td>76.9600</td>\n",
              "      <td>256.7880</td>\n",
              "      <td>g</td>\n",
              "    </tr>\n",
              "    <tr>\n",
              "      <th>3</th>\n",
              "      <td>23.8172</td>\n",
              "      <td>9.5728</td>\n",
              "      <td>2.3385</td>\n",
              "      <td>0.6147</td>\n",
              "      <td>0.3922</td>\n",
              "      <td>27.2107</td>\n",
              "      <td>-6.4633</td>\n",
              "      <td>-7.1513</td>\n",
              "      <td>10.4490</td>\n",
              "      <td>116.7370</td>\n",
              "      <td>g</td>\n",
              "    </tr>\n",
              "    <tr>\n",
              "      <th>4</th>\n",
              "      <td>75.1362</td>\n",
              "      <td>30.9205</td>\n",
              "      <td>3.1611</td>\n",
              "      <td>0.3168</td>\n",
              "      <td>0.1832</td>\n",
              "      <td>-5.5277</td>\n",
              "      <td>28.5525</td>\n",
              "      <td>21.8393</td>\n",
              "      <td>4.6480</td>\n",
              "      <td>356.4620</td>\n",
              "      <td>g</td>\n",
              "    </tr>\n",
              "    <tr>\n",
              "      <th>...</th>\n",
              "      <td>...</td>\n",
              "      <td>...</td>\n",
              "      <td>...</td>\n",
              "      <td>...</td>\n",
              "      <td>...</td>\n",
              "      <td>...</td>\n",
              "      <td>...</td>\n",
              "      <td>...</td>\n",
              "      <td>...</td>\n",
              "      <td>...</td>\n",
              "      <td>...</td>\n",
              "    </tr>\n",
              "    <tr>\n",
              "      <th>19015</th>\n",
              "      <td>21.3846</td>\n",
              "      <td>10.9170</td>\n",
              "      <td>2.6161</td>\n",
              "      <td>0.5857</td>\n",
              "      <td>0.3934</td>\n",
              "      <td>15.2618</td>\n",
              "      <td>11.5245</td>\n",
              "      <td>2.8766</td>\n",
              "      <td>2.4229</td>\n",
              "      <td>106.8258</td>\n",
              "      <td>h</td>\n",
              "    </tr>\n",
              "    <tr>\n",
              "      <th>19016</th>\n",
              "      <td>28.9452</td>\n",
              "      <td>6.7020</td>\n",
              "      <td>2.2672</td>\n",
              "      <td>0.5351</td>\n",
              "      <td>0.2784</td>\n",
              "      <td>37.0816</td>\n",
              "      <td>13.1853</td>\n",
              "      <td>-2.9632</td>\n",
              "      <td>86.7975</td>\n",
              "      <td>247.4560</td>\n",
              "      <td>h</td>\n",
              "    </tr>\n",
              "    <tr>\n",
              "      <th>19017</th>\n",
              "      <td>75.4455</td>\n",
              "      <td>47.5305</td>\n",
              "      <td>3.4483</td>\n",
              "      <td>0.1417</td>\n",
              "      <td>0.0549</td>\n",
              "      <td>-9.3561</td>\n",
              "      <td>41.0562</td>\n",
              "      <td>-9.4662</td>\n",
              "      <td>30.2987</td>\n",
              "      <td>256.5166</td>\n",
              "      <td>h</td>\n",
              "    </tr>\n",
              "    <tr>\n",
              "      <th>19018</th>\n",
              "      <td>120.5135</td>\n",
              "      <td>76.9018</td>\n",
              "      <td>3.9939</td>\n",
              "      <td>0.0944</td>\n",
              "      <td>0.0683</td>\n",
              "      <td>5.8043</td>\n",
              "      <td>-93.5224</td>\n",
              "      <td>-63.8389</td>\n",
              "      <td>84.6874</td>\n",
              "      <td>408.3166</td>\n",
              "      <td>h</td>\n",
              "    </tr>\n",
              "    <tr>\n",
              "      <th>19019</th>\n",
              "      <td>187.1814</td>\n",
              "      <td>53.0014</td>\n",
              "      <td>3.2093</td>\n",
              "      <td>0.2876</td>\n",
              "      <td>0.1539</td>\n",
              "      <td>-167.3125</td>\n",
              "      <td>-168.4558</td>\n",
              "      <td>31.4755</td>\n",
              "      <td>52.7310</td>\n",
              "      <td>272.3174</td>\n",
              "      <td>h</td>\n",
              "    </tr>\n",
              "  </tbody>\n",
              "</table>\n",
              "<p>19020 rows × 11 columns</p>\n",
              "</div>"
            ],
            "text/plain": [
              "        fLength    fWidth   fSize   fConc  ...  fM3Trans   fAlpha     fDist  class\n",
              "0       28.7967   16.0021  2.6449  0.3918  ...   -8.2027  40.0920   81.8828      g\n",
              "1       31.6036   11.7235  2.5185  0.5303  ...   -9.9574   6.3609  205.2610      g\n",
              "2      162.0520  136.0310  4.0612  0.0374  ...  -45.2160  76.9600  256.7880      g\n",
              "3       23.8172    9.5728  2.3385  0.6147  ...   -7.1513  10.4490  116.7370      g\n",
              "4       75.1362   30.9205  3.1611  0.3168  ...   21.8393   4.6480  356.4620      g\n",
              "...         ...       ...     ...     ...  ...       ...      ...       ...    ...\n",
              "19015   21.3846   10.9170  2.6161  0.5857  ...    2.8766   2.4229  106.8258      h\n",
              "19016   28.9452    6.7020  2.2672  0.5351  ...   -2.9632  86.7975  247.4560      h\n",
              "19017   75.4455   47.5305  3.4483  0.1417  ...   -9.4662  30.2987  256.5166      h\n",
              "19018  120.5135   76.9018  3.9939  0.0944  ...  -63.8389  84.6874  408.3166      h\n",
              "19019  187.1814   53.0014  3.2093  0.2876  ...   31.4755  52.7310  272.3174      h\n",
              "\n",
              "[19020 rows x 11 columns]"
            ]
          },
          "metadata": {}
        }
      ],
      "metadata": {
        "id": "HS-mqpLWntEK",
        "colab": {
          "base_uri": "https://localhost:8080/",
          "height": 419
        },
        "outputId": "cc42a388-e53b-4c98-c415-63c1782e3753"
      }
    },
    {
      "cell_type": "markdown",
      "source": [
        "#Data Split"
      ],
      "metadata": {
        "id": "-Blte3CnUlPA"
      }
    },
    {
      "cell_type": "markdown",
      "source": [
        "Split the dataset randomly so that the training set would form 70% of the dataset and the testing set would form 30% of it.\n",
        "\n",
        "Then split the testing set into 2 sets :\n",
        "- Validation set : to help tune model parameters and help control overfitting.\n",
        "- Test set : to assess the performance of the final model and provide an estimation of the test error."
      ],
      "metadata": {
        "id": "2iCsaAeqavg1"
      }
    },
    {
      "cell_type": "code",
      "execution_count": null,
      "source": [
        "from sklearn.model_selection import train_test_split\r\n",
        "x_train, x_allTest, y_train, y_allTest = train_test_split(x, y, test_size=.3, random_state=0)\r\n",
        "x_validation, x_test, y_validation, y_test = train_test_split(x_allTest, y_allTest, test_size=.5, random_state=0)"
      ],
      "outputs": [],
      "metadata": {
        "id": "2QpXbMRP8S1p"
      }
    },
    {
      "cell_type": "markdown",
      "source": [
        "#Data Balancing"
      ],
      "metadata": {
        "id": "Bh-ITJ4XXFmw"
      }
    },
    {
      "cell_type": "markdown",
      "source": [
        "Balance the dataset, randomly put aside the extra readings for the gamma “g” class to make both classes equal in size."
      ],
      "metadata": {
        "id": "dVdq5pz0axa3"
      }
    },
    {
      "cell_type": "code",
      "execution_count": null,
      "source": [
        "from imblearn.under_sampling import RandomUnderSampler\r\n",
        "under_sampler = RandomUnderSampler()\r\n",
        "x_res , y_res = under_sampler.fit_resample(x_train, y_train)"
      ],
      "outputs": [
        {
          "output_type": "stream",
          "name": "stderr",
          "text": [
            "/usr/local/lib/python3.7/dist-packages/sklearn/utils/deprecation.py:87: FutureWarning: Function safe_indexing is deprecated; safe_indexing is deprecated in version 0.22 and will be removed in version 0.24.\n",
            "  warnings.warn(msg, category=FutureWarning)\n"
          ]
        }
      ],
      "metadata": {
        "id": "Q08taNHPKgt1",
        "colab": {
          "base_uri": "https://localhost:8080/"
        },
        "outputId": "1c3049bf-10f8-4ac7-92cd-2ac8cd3532b0"
      }
    },
    {
      "cell_type": "code",
      "execution_count": null,
      "source": [
        "print(magic.shape)\r\n",
        "print(x.shape)\r\n",
        "print(y.shape)\r\n",
        "print(x_train.shape)\r\n",
        "print(y_train.shape)\r\n",
        "print(x_res.shape)\r\n",
        "print(y_res.shape)\r\n",
        "unique, counts = np.unique(y_res, return_counts=True)\r\n",
        "print(dict(zip(unique, counts)))\r\n",
        "print(x_allTest.shape)\r\n",
        "print(y_allTest.shape)\r\n",
        "print(x_validation.shape)\r\n",
        "print(y_validation.shape)\r\n",
        "print(x_test.shape)\r\n",
        "print(y_test.shape)"
      ],
      "outputs": [
        {
          "output_type": "stream",
          "name": "stdout",
          "text": [
            "(19019, 11)\n",
            "(19019, 10)\n",
            "(19019,)\n",
            "(13313, 10)\n",
            "(13313,)\n",
            "(9292, 10)\n",
            "(9292,)\n",
            "{'g': 4646, 'h': 4646}\n",
            "(5706, 10)\n",
            "(5706,)\n",
            "(2853, 10)\n",
            "(2853,)\n",
            "(2853, 10)\n",
            "(2853,)\n"
          ]
        }
      ],
      "metadata": {
        "id": "Je4tRcUJ-Cp4",
        "colab": {
          "base_uri": "https://localhost:8080/"
        },
        "outputId": "fda2045f-2783-422f-ac36-3ed4620b582e"
      }
    },
    {
      "cell_type": "markdown",
      "source": [
        "#Applying the classifiers"
      ],
      "metadata": {
        "id": "9KJF2RdabrYo"
      }
    },
    {
      "cell_type": "markdown",
      "source": [
        "####Decision Tree Classifier"
      ],
      "metadata": {
        "id": "_DO0tGkHbL4A"
      }
    },
    {
      "cell_type": "code",
      "execution_count": null,
      "source": [
        "#Import Decision Tree model\n",
        "from sklearn.tree import DecisionTreeClassifier\n",
        "#Create classifier model\n",
        "decision_tree_model = DecisionTreeClassifier(criterion='entropy', random_state=0)\n",
        "#Train the model using the training sets\n",
        "decision_tree_trained = decision_tree_model.fit(x_res, y_res)"
      ],
      "outputs": [],
      "metadata": {
        "id": "EHbPI3PnRh1a"
      }
    },
    {
      "cell_type": "code",
      "execution_count": null,
      "source": [
        "# Testing the model\n",
        "\n",
        "#Predict the response for test dataset\n",
        "y_pred = decision_tree_trained.predict(x_test)\n",
        "print(\"Accuracy:\",metrics.accuracy_score(y_test, y_pred))\n",
        "print(\"classification report:\")\n",
        "print(metrics.classification_report(y_test, y_pred))\n",
        "print(\"Confusion matrix:\",metrics.confusion_matrix(y_test, y_pred))\n",
        "confusion_matrix = metrics.plot_confusion_matrix(decision_tree_trained, x_test, y_test, normalize='true')"
      ],
      "outputs": [
        {
          "output_type": "stream",
          "name": "stdout",
          "text": [
            "Accuracy: 0.7949526813880127\n",
            "classification report:\n",
            "              precision    recall  f1-score   support\n",
            "\n",
            "           g       0.88      0.80      0.84      1860\n",
            "           h       0.68      0.79      0.73       993\n",
            "\n",
            "    accuracy                           0.79      2853\n",
            "   macro avg       0.78      0.79      0.78      2853\n",
            "weighted avg       0.81      0.79      0.80      2853\n",
            "\n",
            "Confusion matrix: [[1483  377]\n",
            " [ 208  785]]\n"
          ]
        },
        {
          "output_type": "display_data",
          "data": {
            "image/png": "[encoded data removed]",
            "text/plain": [
              "<Figure size 432x288 with 2 Axes>"
            ]
          },
          "metadata": {
            "needs_background": "light"
          }
        }
      ],
      "metadata": {
        "colab": {
          "base_uri": "https://localhost:8080/",
          "height": 500
        },
        "id": "2XFC6UCWtXBa",
        "outputId": "dd0f4022-3e4c-4292-fcae-1929c92196e4"
      }
    },
    {
      "cell_type": "markdown",
      "source": [
        "####Random Forest Classifier"
      ],
      "metadata": {
        "id": "DnwO5241chfH"
      }
    },
    {
      "cell_type": "code",
      "execution_count": null,
      "source": [
        "#Import Random Forest Classifier model\n",
        "from sklearn.ensemble import RandomForestClassifier\n",
        "#Create classifier model\n",
        "random_forest_model = RandomForestClassifier()"
      ],
      "outputs": [],
      "metadata": {
        "id": "LWbEGjD8BcFH"
      }
    },
    {
      "cell_type": "code",
      "execution_count": null,
      "source": [
        "from sklearn.model_selection import GridSearchCV\n",
        "param_grid = {'n_estimators': np.linspace(start = 200, stop = 2000, num = 10, dtype=int)}\n",
        "# run grid search\n",
        "RFC_grid_search = GridSearchCV(random_forest_model, param_grid=param_grid)\n",
        "RFC_grid_search.fit(x_res, y_res)"
      ],
      "outputs": [
        {
          "output_type": "execute_result",
          "data": {
            "text/plain": [
              "GridSearchCV(cv=None, error_score=nan,\n",
              "             estimator=RandomForestClassifier(bootstrap=True, ccp_alpha=0.0,\n",
              "                                              class_weight=None,\n",
              "                                              criterion='gini', max_depth=None,\n",
              "                                              max_features='auto',\n",
              "                                              max_leaf_nodes=None,\n",
              "                                              max_samples=None,\n",
              "                                              min_impurity_decrease=0.0,\n",
              "                                              min_impurity_split=None,\n",
              "                                              min_samples_leaf=1,\n",
              "                                              min_samples_split=2,\n",
              "                                              min_weight_fraction_leaf=0.0,\n",
              "                                              n_estimators=100, n_jobs=None,\n",
              "                                              oob_score=False,\n",
              "                                              random_state=None, verbose=0,\n",
              "                                              warm_start=False),\n",
              "             iid='deprecated', n_jobs=None,\n",
              "             param_grid={'n_estimators': array([ 200,  400,  600,  800, 1000, 1200, 1400, 1600, 1800, 2000])},\n",
              "             pre_dispatch='2*n_jobs', refit=True, return_train_score=False,\n",
              "             scoring=None, verbose=0)"
            ]
          },
          "metadata": {},
          "execution_count": 41
        }
      ],
      "metadata": {
        "id": "M_0LXFIDhyt_",
        "colab": {
          "base_uri": "https://localhost:8080/"
        },
        "outputId": "dc6d7542-1a40-425c-f25f-932b7ac7e1a4"
      }
    },
    {
      "cell_type": "code",
      "execution_count": null,
      "source": [
        "print(RFC_grid_search.best_params_)\n",
        "\n",
        "# Testing the model\n",
        "\n",
        "#Predict the response for test dataset\n",
        "y_pred = RFC_grid_search.predict(x_test)\n",
        "print(\"Accuracy:\",metrics.accuracy_score(y_test, y_pred))\n",
        "print(\"classification report:\")\n",
        "print(metrics.classification_report(y_test, y_pred))\n",
        "print(\"Confusion matrix:\",metrics.confusion_matrix(y_test, y_pred))\n",
        "confusion_matrix = metrics.plot_confusion_matrix(RFC_grid_search, x_test, y_test, normalize='true')"
      ],
      "outputs": [
        {
          "output_type": "stream",
          "name": "stdout",
          "text": [
            "{'n_estimators': 200}\n",
            "Accuracy: 0.866105853487557\n",
            "classification report:\n",
            "              precision    recall  f1-score   support\n",
            "\n",
            "           g       0.91      0.88      0.90      1860\n",
            "           h       0.79      0.84      0.81       993\n",
            "\n",
            "    accuracy                           0.87      2853\n",
            "   macro avg       0.85      0.86      0.85      2853\n",
            "weighted avg       0.87      0.87      0.87      2853\n",
            "\n",
            "Confusion matrix: [[1634  226]\n",
            " [ 156  837]]\n"
          ]
        },
        {
          "output_type": "display_data",
          "data": {
            "image/png": "[encoded data removed]",
            "text/plain": [
              "<Figure size 432x288 with 2 Axes>"
            ]
          },
          "metadata": {
            "needs_background": "light"
          }
        }
      ],
      "metadata": {
        "colab": {
          "base_uri": "https://localhost:8080/",
          "height": 517
        },
        "id": "pitVppwGnxD9",
        "outputId": "c5d67ee8-6cee-42b8-fe6d-dc180a60c872"
      }
    },
    {
      "cell_type": "markdown",
      "source": [
        "####Ada Boost Classifier"
      ],
      "metadata": {
        "id": "oNzFtwyKLp3g"
      }
    },
    {
      "cell_type": "code",
      "execution_count": null,
      "source": [
        "#Import AdaBoost Classifier model\n",
        "from sklearn.ensemble import AdaBoostClassifier\n",
        "#Create classifier model\n",
        "ada_boost_model = AdaBoostClassifier()"
      ],
      "outputs": [],
      "metadata": {
        "id": "xVrjfUB1Lo4R"
      }
    },
    {
      "cell_type": "code",
      "execution_count": null,
      "source": [
        "from sklearn.model_selection import GridSearchCV\n",
        "param_grid = {'n_estimators': np.linspace(start = 100, stop = 1000, num = 10, dtype=int)}\n",
        "# run grid search\n",
        "Ada_grid_search = GridSearchCV(ada_boost_model, param_grid=param_grid)\n",
        "Ada_grid_search.fit(x_res, y_res)"
      ],
      "outputs": [
        {
          "output_type": "execute_result",
          "data": {
            "text/plain": [
              "GridSearchCV(cv=None, error_score=nan,\n",
              "             estimator=AdaBoostClassifier(algorithm='SAMME.R',\n",
              "                                          base_estimator=None,\n",
              "                                          learning_rate=1.0, n_estimators=50,\n",
              "                                          random_state=None),\n",
              "             iid='deprecated', n_jobs=None,\n",
              "             param_grid={'n_estimators': array([ 100,  200,  300,  400,  500,  600,  700,  800,  900, 1000])},\n",
              "             pre_dispatch='2*n_jobs', refit=True, return_train_score=False,\n",
              "             scoring=None, verbose=0)"
            ]
          },
          "metadata": {},
          "execution_count": 44
        }
      ],
      "metadata": {
        "colab": {
          "base_uri": "https://localhost:8080/"
        },
        "id": "spNgMvgAMo0P",
        "outputId": "3bfd6919-619a-4e70-8a8b-3c5e6bc7c6bb"
      }
    },
    {
      "cell_type": "code",
      "execution_count": null,
      "source": [
        "print(Ada_grid_search.best_params_)\n",
        "\n",
        "# Testing the model\n",
        "\n",
        "#Predict the response for test dataset\n",
        "y_pred = Ada_grid_search.predict(x_test)\n",
        "print(\"Accuracy:\",metrics.accuracy_score(y_test, y_pred))\n",
        "print(\"classification report:\")\n",
        "print(metrics.classification_report(y_test, y_pred))\n",
        "print(\"Confusion matrix:\",metrics.confusion_matrix(y_test, y_pred))\n",
        "confusion_matrix = metrics.plot_confusion_matrix(Ada_grid_search, x_test, y_test, normalize='true')"
      ],
      "outputs": [
        {
          "output_type": "stream",
          "name": "stdout",
          "text": [
            "{'n_estimators': 200}\n",
            "Accuracy: 0.8177357167893445\n",
            "classification report:\n",
            "              precision    recall  f1-score   support\n",
            "\n",
            "           g       0.89      0.82      0.85      1860\n",
            "           h       0.71      0.82      0.76       993\n",
            "\n",
            "    accuracy                           0.82      2853\n",
            "   macro avg       0.80      0.82      0.81      2853\n",
            "weighted avg       0.83      0.82      0.82      2853\n",
            "\n",
            "Confusion matrix: [[1523  337]\n",
            " [ 183  810]]\n"
          ]
        },
        {
          "output_type": "display_data",
          "data": {
            "image/png": "[encoded data removed]",
            "text/plain": [
              "<Figure size 432x288 with 2 Axes>"
            ]
          },
          "metadata": {
            "needs_background": "light"
          }
        }
      ],
      "metadata": {
        "colab": {
          "base_uri": "https://localhost:8080/",
          "height": 517
        },
        "id": "3u1r6RzILa6n",
        "outputId": "00b6aeaf-7526-4ff9-8fde-980e32a52618"
      }
    },
    {
      "cell_type": "markdown",
      "source": [
        "####KNN Classifier"
      ],
      "metadata": {
        "id": "1O0plfiK-gPo"
      }
    },
    {
      "cell_type": "code",
      "execution_count": null,
      "source": [
        "#Import K Nearest Neighbors Classifier model\n",
        "from sklearn.neighbors import KNeighborsClassifier\n",
        "#Create classifier model\n",
        "KNN_model= KNeighborsClassifier()"
      ],
      "outputs": [],
      "metadata": {
        "id": "DLo-qb8f-eiK"
      }
    },
    {
      "cell_type": "code",
      "execution_count": null,
      "source": [
        "from sklearn.model_selection import GridSearchCV\n",
        "param_grid = {'n_neighbors': np.linspace(start = 3, stop = 15, num = 13, dtype=int)}\n",
        "# run grid search\n",
        "KNN_grid_search = GridSearchCV(KNN_model, param_grid=param_grid)\n",
        "KNN_grid_search.fit(x_res, y_res)"
      ],
      "outputs": [
        {
          "output_type": "execute_result",
          "data": {
            "text/plain": [
              "GridSearchCV(cv=None, error_score=nan,\n",
              "             estimator=KNeighborsClassifier(algorithm='auto', leaf_size=30,\n",
              "                                            metric='minkowski',\n",
              "                                            metric_params=None, n_jobs=None,\n",
              "                                            n_neighbors=5, p=2,\n",
              "                                            weights='uniform'),\n",
              "             iid='deprecated', n_jobs=None,\n",
              "             param_grid={'n_neighbors': array([ 3,  4,  5,  6,  7,  8,  9, 10, 11, 12, 13, 14, 15])},\n",
              "             pre_dispatch='2*n_jobs', refit=True, return_train_score=False,\n",
              "             scoring=None, verbose=0)"
            ]
          },
          "metadata": {},
          "execution_count": 33
        }
      ],
      "metadata": {
        "colab": {
          "base_uri": "https://localhost:8080/"
        },
        "id": "vqdMn40kGZbF",
        "outputId": "900f0014-b2a2-4e05-d71b-35d804267e67"
      }
    },
    {
      "cell_type": "code",
      "execution_count": null,
      "source": [
        "print(KNN_grid_search.best_params_)\n",
        " \n",
        "# Testing the model\n",
        " \n",
        "#Predict the response for test dataset\n",
        "y_pred = KNN_grid_search.predict(x_test)\n",
        "print(\"Accuracy:\",metrics.accuracy_score(y_test, y_pred))\n",
        "print(\"classification report:\")\n",
        "print(metrics.classification_report(y_test, y_pred))\n",
        "print(\"Confusion matrix:\",metrics.confusion_matrix(y_test, y_pred))\n",
        "confusion_matrix = metrics.plot_confusion_matrix(KNN_grid_search, x_test, y_test, normalize='true')"
      ],
      "outputs": [
        {
          "output_type": "stream",
          "name": "stdout",
          "text": [
            "{'n_neighbors': 13}\n",
            "Accuracy: 0.786540483701367\n",
            "classification report:\n",
            "              precision    recall  f1-score   support\n",
            "\n",
            "           g       0.83      0.85      0.84      1860\n",
            "           h       0.71      0.66      0.68       993\n",
            "\n",
            "    accuracy                           0.79      2853\n",
            "   macro avg       0.77      0.76      0.76      2853\n",
            "weighted avg       0.78      0.79      0.78      2853\n",
            "\n",
            "Confusion matrix: [[1585  275]\n",
            " [ 334  659]]\n"
          ]
        },
        {
          "output_type": "display_data",
          "data": {
            "image/png": "[encoded data removed]",
            "text/plain": [
              "<Figure size 432x288 with 2 Axes>"
            ]
          },
          "metadata": {
            "needs_background": "light"
          }
        }
      ],
      "metadata": {
        "colab": {
          "base_uri": "https://localhost:8080/",
          "height": 517
        },
        "id": "oDvUKaqvHRSc",
        "outputId": "6909ffaf-0c23-4930-b875-8512dba0874f"
      }
    },
    {
      "cell_type": "markdown",
      "source": [
        "####Naive Bayes Classifier"
      ],
      "metadata": {
        "id": "n-FCXfIf-qWB"
      }
    },
    {
      "cell_type": "code",
      "execution_count": null,
      "source": [
        "#Import Gaussian Naive Bayes model\n",
        "from sklearn.naive_bayes import GaussianNB\n",
        "#Create classifier model\n",
        "naive_bayes_model = GaussianNB()\n",
        "#Train the model using the training sets\n",
        "naive_bayes_trained = naive_bayes_model.fit(x_res, y_res)"
      ],
      "outputs": [],
      "metadata": {
        "id": "1Ya_b-oR-qij"
      }
    },
    {
      "cell_type": "code",
      "execution_count": null,
      "source": [
        "# Testing the model\n",
        "\n",
        "#Predict the response for test dataset\n",
        "y_pred = naive_bayes_trained.predict(x_test)\n",
        "print(\"Accuracy:\",metrics.accuracy_score(y_test, y_pred))\n",
        "print(\"classification report:\")\n",
        "print(metrics.classification_report(y_test, y_pred))\n",
        "print(\"Confusion matrix:\",metrics.confusion_matrix(y_test, y_pred))\n",
        "confusion_matrix = metrics.plot_confusion_matrix(naive_bayes_trained, x_test, y_test, normalize='true')"
      ],
      "outputs": [
        {
          "output_type": "stream",
          "name": "stdout",
          "text": [
            "Accuracy: 0.729758149316509\n",
            "classification report:\n",
            "              precision    recall  f1-score   support\n",
            "\n",
            "           g       0.74      0.90      0.81      1860\n",
            "           h       0.68      0.42      0.52       993\n",
            "\n",
            "    accuracy                           0.73      2853\n",
            "   macro avg       0.71      0.66      0.67      2853\n",
            "weighted avg       0.72      0.73      0.71      2853\n",
            "\n",
            "Confusion matrix: [[1666  194]\n",
            " [ 577  416]]\n"
          ]
        },
        {
          "output_type": "display_data",
          "data": {
            "image/png": "[encoded data removed]",
            "text/plain": [
              "<Figure size 432x288 with 2 Axes>"
            ]
          },
          "metadata": {
            "needs_background": "light"
          }
        }
      ],
      "metadata": {
        "id": "z2L20JiZ-qlh",
        "colab": {
          "base_uri": "https://localhost:8080/",
          "height": 500
        },
        "outputId": "2feb9f41-1735-4cc5-d43c-3faef0a2e825"
      }
    }
  ]
}